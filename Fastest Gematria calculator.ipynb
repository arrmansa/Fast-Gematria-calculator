{
 "cells": [
  {
   "cell_type": "markdown",
   "id": "7cb6b682",
   "metadata": {},
   "source": [
    "# Pure Python"
   ]
  },
  {
   "cell_type": "code",
   "execution_count": 1,
   "id": "48b3d45a",
   "metadata": {},
   "outputs": [],
   "source": [
    "def pure_python_simple(filename, maketuple=False):\n",
    "    maindict = {65: 1, 66: 2, 67: 3, 68: 4, 69: 5, 70: 6, 71: 7, 72: 8, 73: 9, 74: 10, \\\n",
    "                75: 20, 76: 30, 77: 40, 78: 50, 79: 60, 80: 70, 81: 80, 82: 90, 83: 100, \\\n",
    "                84: 200, 85: 300, 86: 400, 87: 500, 88: 600, 89: 700, 90: 800}\n",
    "    full_dict = {**{i:0 for i in range(128)}, **maindict, **{key+32:val for key,val in maindict.items()}}\n",
    "    if maketuple:\n",
    "        full_dict = tuple(full_dict.values())\n",
    "    with open(filename, 'rb') as f:\n",
    "        print(sum(full_dict[i] for i in f.read()))"
   ]
  },
  {
   "cell_type": "code",
   "execution_count": 2,
   "id": "76ad5e2c",
   "metadata": {},
   "outputs": [
    {
     "name": "stdout",
     "output_type": "stream",
     "text": [
      "9140634224\n",
      "7.29 s ± 0 ns per loop (mean ± std. dev. of 1 run, 1 loop each)\n"
     ]
    }
   ],
   "source": [
    "%%timeit -n 1 -r 1\n",
    "pure_python_simple(\"random-20221005.txt\")"
   ]
  },
  {
   "cell_type": "code",
   "execution_count": 3,
   "id": "77d34b4a",
   "metadata": {},
   "outputs": [
    {
     "name": "stdout",
     "output_type": "stream",
     "text": [
      "9140634224\n",
      "7.18 s ± 0 ns per loop (mean ± std. dev. of 1 run, 1 loop each)\n"
     ]
    }
   ],
   "source": [
    "%%timeit -n 1 -r 1\n",
    "pure_python_simple(\"random-20221005.txt\", maketuple=True)"
   ]
  },
  {
   "cell_type": "markdown",
   "id": "6888cff1",
   "metadata": {},
   "source": [
    "# Numpy"
   ]
  },
  {
   "cell_type": "code",
   "execution_count": 4,
   "id": "00cf6f97",
   "metadata": {},
   "outputs": [],
   "source": [
    "import numpy as np\n",
    "def numpy_indexing(filename, do_loops=False):\n",
    "    maindict = {65: 1, 66: 2, 67: 3, 68: 4, 69: 5, 70: 6, 71: 7, 72: 8, 73: 9, 74: 10, \\\n",
    "                75: 20, 76: 30, 77: 40, 78: 50, 79: 60, 80: 70, 81: 80, 82: 90, 83: 100, \\\n",
    "                84: 200, 85: 300, 86: 400, 87: 500, 88: 600, 89: 700, 90: 800}\n",
    "    full_dict = {**{i:0 for i in range(128)}, **maindict, **{key+32:val for key,val in maindict.items()}}\n",
    "    full_dict = np.array(tuple(full_dict.values()), dtype=np.uint32)\n",
    "    with open(filename, 'rb') as f:\n",
    "        if do_loops:\n",
    "            total = 0\n",
    "            temp = 1\n",
    "            loops = 0\n",
    "            while temp:\n",
    "                temp = np.sum(full_dict[np.frombuffer(f.read1(100000), dtype=np.uint8)])\n",
    "                total += temp\n",
    "                loops += 1\n",
    "            print(total)\n",
    "            print(loops)\n",
    "        else:\n",
    "            print(np.sum(full_dict[np.frombuffer(f.read(), dtype=np.uint8)]))"
   ]
  },
  {
   "cell_type": "code",
   "execution_count": 5,
   "id": "a5c3a1ca",
   "metadata": {},
   "outputs": [
    {
     "data": {
      "text/plain": [
       "-589934592"
      ]
     },
     "execution_count": 5,
     "metadata": {},
     "output_type": "execute_result"
    }
   ],
   "source": [
    "#Error\n",
    "np.sum(np.array([800]*10000000))"
   ]
  },
  {
   "cell_type": "code",
   "execution_count": 6,
   "id": "71007904",
   "metadata": {},
   "outputs": [
    {
     "name": "stdout",
     "output_type": "stream",
     "text": [
      "550699632\n",
      "617 ms ± 0 ns per loop (mean ± std. dev. of 1 run, 1 loop each)\n"
     ]
    }
   ],
   "source": [
    "%%timeit -n 1 -r 1\n",
    "numpy_indexing(\"random-20221005.txt\")"
   ]
  },
  {
   "cell_type": "code",
   "execution_count": 7,
   "id": "a9f013e6",
   "metadata": {},
   "outputs": [
    {
     "name": "stdout",
     "output_type": "stream",
     "text": [
      "9140634224\n",
      "1050\n",
      "9140634224\n",
      "1050\n",
      "9140634224\n",
      "1050\n",
      "9140634224\n",
      "1050\n",
      "9140634224\n",
      "1050\n",
      "9140634224\n",
      "1050\n",
      "9140634224\n",
      "1050\n",
      "9140634224\n",
      "1050\n",
      "345 ms ± 15.4 ms per loop (mean ± std. dev. of 7 runs, 1 loop each)\n"
     ]
    }
   ],
   "source": [
    "%%timeit\n",
    "numpy_indexing(\"random-20221005.txt\", do_loops=True)"
   ]
  },
  {
   "cell_type": "markdown",
   "id": "1f513c78",
   "metadata": {},
   "source": [
    "# Pure Numba"
   ]
  },
  {
   "cell_type": "code",
   "execution_count": 8,
   "id": "f5ec09fd",
   "metadata": {},
   "outputs": [
    {
     "data": {
      "text/plain": [
       "4095"
      ]
     },
     "execution_count": 8,
     "metadata": {},
     "output_type": "execute_result"
    }
   ],
   "source": [
    "from numba import jit\n",
    "@jit(nogil=True, fastmath=True)\n",
    "def gematria_sum(bytearr):\n",
    "    total = 0\n",
    "    for char in bytearr:\n",
    "        if char < 65:\n",
    "            continue\n",
    "        if char > 96:\n",
    "            char -= 32\n",
    "        if char < 74: #A 4- J\n",
    "            total += char-64\n",
    "            continue\n",
    "        if char < 84: #K - S\n",
    "            total += (char-73)*10\n",
    "            continue\n",
    "        if char < 91: #T - Z\n",
    "            total += (char-82)*100\n",
    "    return total\n",
    "gematria_sum(b'qwertyuiopasdfghjklzxcvbnm') #to compile"
   ]
  },
  {
   "cell_type": "code",
   "execution_count": 9,
   "id": "d1a76a06",
   "metadata": {},
   "outputs": [],
   "source": [
    "def numba_basic(filename, do_loops=False):\n",
    "    with open(filename, 'rb') as f:\n",
    "        if do_loops:\n",
    "            total = 0\n",
    "            temp = 1\n",
    "            loops = 0\n",
    "            while temp:\n",
    "                temp = gematria_sum(f.read1(100000))\n",
    "                total += temp\n",
    "                loops += 1\n",
    "            print(total)\n",
    "            print(loops)\n",
    "        else:\n",
    "            print(gematria_sum(f.read()))"
   ]
  },
  {
   "cell_type": "code",
   "execution_count": 10,
   "id": "1e40f0be",
   "metadata": {},
   "outputs": [
    {
     "name": "stdout",
     "output_type": "stream",
     "text": [
      "9140634224\n",
      "784 ms ± 0 ns per loop (mean ± std. dev. of 1 run, 1 loop each)\n"
     ]
    }
   ],
   "source": [
    "%%timeit -n 1 -r 1\n",
    "numba_basic(\"random-20221005.txt\")"
   ]
  },
  {
   "cell_type": "code",
   "execution_count": 11,
   "id": "9b576d95",
   "metadata": {},
   "outputs": [
    {
     "name": "stdout",
     "output_type": "stream",
     "text": [
      "9140634224\n",
      "1050\n",
      "9140634224\n",
      "1050\n",
      "9140634224\n",
      "1050\n",
      "9140634224\n",
      "1050\n",
      "9140634224\n",
      "1050\n",
      "9140634224\n",
      "1050\n",
      "9140634224\n",
      "1050\n",
      "762 ms ± 30.3 ms per loop (mean ± std. dev. of 7 runs, 1 loop each)\n"
     ]
    }
   ],
   "source": [
    "%%timeit -n 1\n",
    "numba_basic(\"random-20221005.txt\", do_loops=True)"
   ]
  },
  {
   "cell_type": "markdown",
   "id": "7aac7721",
   "metadata": {},
   "source": [
    "# multithread numpy"
   ]
  },
  {
   "cell_type": "code",
   "execution_count": 12,
   "id": "06955746",
   "metadata": {},
   "outputs": [],
   "source": [
    "import threading\n",
    "\n",
    "def threaded_numpy(filename):\n",
    "    maindict = {65: 1, 66: 2, 67: 3, 68: 4, 69: 5, 70: 6, 71: 7, 72: 8, 73: 9, 74: 10, \\\n",
    "                75: 20, 76: 30, 77: 40, 78: 50, 79: 60, 80: 70, 81: 80, 82: 90, 83: 100, \\\n",
    "                84: 200, 85: 300, 86: 400, 87: 500, 88: 600, 89: 700, 90: 800}\n",
    "    full_dict = {**{i:0 for i in range(128)}, **maindict, **{key+32:val for key,val in maindict.items()}}\n",
    "    full_dict = np.array(tuple(full_dict.values()), dtype=np.uint32)\n",
    "    \n",
    "    lock = threading.Lock()\n",
    "    results = []\n",
    "    def do_job(full_dict, bytearr, results, lock):\n",
    "        num = np.sum(full_dict[np.frombuffer(bytearr, dtype=np.uint8)])\n",
    "        with lock:\n",
    "            results.append(num)\n",
    "    threads = []\n",
    "    \n",
    "    with open(filename, 'rb') as f:\n",
    "        total = 0\n",
    "        loops = 0\n",
    "        temp = f.read1(1000000)\n",
    "        while len(temp):\n",
    "            threads.append(threading.Thread(target=do_job, \n",
    "                                            args=(full_dict, temp, results, lock)))\n",
    "            threads[-1].start()\n",
    "            loops += 1\n",
    "            temp = f.read1(1000000)\n",
    "            if len(threads)>10:\n",
    "                threads[0].join()\n",
    "                del threads[0]\n",
    "        for thread in threads:\n",
    "            thread.join()\n",
    "        print(sum(results))\n",
    "        print(loops)"
   ]
  },
  {
   "cell_type": "code",
   "execution_count": 13,
   "id": "96badfa3",
   "metadata": {},
   "outputs": [
    {
     "name": "stdout",
     "output_type": "stream",
     "text": [
      "9140634224\n",
      "105\n",
      "9140634224\n",
      "105\n",
      "9140634224\n",
      "105\n",
      "9140634224\n",
      "105\n",
      "9140634224\n",
      "105\n",
      "9140634224\n",
      "105\n",
      "9140634224\n",
      "105\n",
      "197 ms ± 9.86 ms per loop (mean ± std. dev. of 7 runs, 1 loop each)\n"
     ]
    }
   ],
   "source": [
    "%%timeit -n 1\n",
    "threaded_numpy(\"random-20221005.txt\")"
   ]
  },
  {
   "cell_type": "code",
   "execution_count": 14,
   "id": "94257894",
   "metadata": {},
   "outputs": [],
   "source": [
    "import numpy as np\n",
    "import os\n",
    "from concurrent.futures import ThreadPoolExecutor\n",
    "\n",
    "def multithread_numpy_fast_gematria(filename, chunksize=400000, max_threads=12):\n",
    "    maindict = {65: 1, 66: 2, 67: 3, 68: 4, 69: 5, 70: 6, 71: 7, 72: 8, 73: 9, 74: 10, \\\n",
    "                75: 20, 76: 30, 77: 40, 78: 50, 79: 60, 80: 70, 81: 80, 82: 90, 83: 100, \\\n",
    "                84: 200, 85: 300, 86: 400, 87: 500, 88: 600, 89: 700, 90: 800}\n",
    "    full_dict = {**{i:0 for i in range(128)}, **maindict, **{key+32:val for key,val in maindict.items()}}\n",
    "    full_dict = np.array(tuple(full_dict.values()), dtype=np.uint16)\n",
    "    task = lambda full_dict, bytearr: np.sum(full_dict[np.frombuffer(bytearr, dtype=np.uint8)])\n",
    "    threads = []\n",
    "    with open(filename, 'rb', chunksize) as f:\n",
    "        filesize = os.fstat(f.fileno()).st_size\n",
    "        with ThreadPoolExecutor(max_workers=max_threads) as executor:\n",
    "            for _ in range(1 + filesize//chunksize):\n",
    "                threads.append(executor.submit(task, full_dict, f.read(chunksize)))\n",
    "    return sum(thread.result() for thread in threads)"
   ]
  },
  {
   "cell_type": "code",
   "execution_count": 15,
   "id": "b7a5dff1",
   "metadata": {},
   "outputs": [
    {
     "name": "stdout",
     "output_type": "stream",
     "text": [
      "9140634224\n"
     ]
    }
   ],
   "source": [
    "print(multithread_numpy_fast_gematria(\"E:/random-20221005.txt\"))"
   ]
  },
  {
   "cell_type": "code",
   "execution_count": 16,
   "id": "b15c98ca",
   "metadata": {},
   "outputs": [
    {
     "name": "stdout",
     "output_type": "stream",
     "text": [
      "79.2 ms ± 7.25 ms per loop (mean ± std. dev. of 10 runs, 1 loop each)\n"
     ]
    }
   ],
   "source": [
    "%%timeit -n 1 -r 10\n",
    "multithread_numpy_fast_gematria(\"E:/random-20221005.txt\")"
   ]
  },
  {
   "cell_type": "markdown",
   "id": "e00c9a61",
   "metadata": {},
   "source": [
    "# Numba, as fast as possible"
   ]
  },
  {
   "cell_type": "code",
   "execution_count": 17,
   "id": "ca0d3206",
   "metadata": {},
   "outputs": [],
   "source": [
    "import numpy as np\n",
    "from numba import jit\n",
    "import os\n",
    "from concurrent.futures import ThreadPoolExecutor\n",
    "\n",
    "@jit(nogil=True, fastmath=True)\n",
    "def counter(full_dict, bytearr):\n",
    "    total = 0\n",
    "    for i in bytearr:\n",
    "        total += full_dict[i]\n",
    "    return total\n",
    "_ = counter(np.zeros((128,), dtype=np.int32), b'abc') #to compile\n",
    "\n",
    "def final_fast_gematria(filename, chunksize=600000, max_threads=4):\n",
    "    maindict = {65: 1, 66: 2, 67: 3, 68: 4, 69: 5, 70: 6, 71: 7, 72: 8, 73: 9, 74: 10, \\\n",
    "                75: 20, 76: 30, 77: 40, 78: 50, 79: 60, 80: 70, 81: 80, 82: 90, 83: 100, \\\n",
    "                84: 200, 85: 300, 86: 400, 87: 500, 88: 600, 89: 700, 90: 800}\n",
    "    full_dict = {**{i:0 for i in range(128)}, **maindict, **{key+32:val for key,val in maindict.items()}}\n",
    "    full_dict = np.array(tuple(full_dict.values()), dtype=np.int32)    \n",
    "    threads = []\n",
    "    with ThreadPoolExecutor(max_workers=max_threads) as executor:\n",
    "        with open(filename, 'rb', 0) as f:\n",
    "            filesize = os.fstat(f.fileno()).st_size\n",
    "            for _ in range(filesize//chunksize - 1):\n",
    "                threads.append(executor.submit(counter, full_dict, f.read(chunksize)))\n",
    "            return counter(full_dict, f.read()) + sum(thread.result() for thread in threads) "
   ]
  },
  {
   "cell_type": "code",
   "execution_count": 18,
   "id": "f414a7eb",
   "metadata": {},
   "outputs": [
    {
     "name": "stdout",
     "output_type": "stream",
     "text": [
      "9140634224\n"
     ]
    }
   ],
   "source": [
    "print(final_fast_gematria(\"E:/random-20221005.txt\"))"
   ]
  },
  {
   "cell_type": "code",
   "execution_count": 19,
   "id": "8d51d78a",
   "metadata": {},
   "outputs": [
    {
     "name": "stdout",
     "output_type": "stream",
     "text": [
      "27.9 ms ± 1.11 ms per loop (mean ± std. dev. of 10 runs, 2 loops each)\n"
     ]
    }
   ],
   "source": [
    "%%timeit -n 2 -r 10\n",
    "final_fast_gematria(\"E:/random-20221005.txt\")"
   ]
  },
  {
   "cell_type": "code",
   "execution_count": 20,
   "id": "7d6dac59",
   "metadata": {},
   "outputs": [],
   "source": [
    "def only_read(filename, chunksize=600000):\n",
    "    with open(filename, 'rb', chunksize) as f:\n",
    "        filesize = os.fstat(f.fileno()).st_size\n",
    "        for _ in range(1 + filesize//chunksize):\n",
    "            f.read(600000)"
   ]
  },
  {
   "cell_type": "code",
   "execution_count": 21,
   "id": "f7bab108",
   "metadata": {},
   "outputs": [
    {
     "name": "stdout",
     "output_type": "stream",
     "text": [
      "22.6 ms ± 985 µs per loop (mean ± std. dev. of 10 runs, 1 loop each)\n"
     ]
    }
   ],
   "source": [
    "%%timeit -n 1 -r 10\n",
    "only_read(\"E:/random-20221005.txt\")"
   ]
  }
 ],
 "metadata": {
  "kernelspec": {
   "display_name": "Python 3 (ipykernel)",
   "language": "python",
   "name": "python3"
  },
  "language_info": {
   "codemirror_mode": {
    "name": "ipython",
    "version": 3
   },
   "file_extension": ".py",
   "mimetype": "text/x-python",
   "name": "python",
   "nbconvert_exporter": "python",
   "pygments_lexer": "ipython3",
   "version": "3.7.10"
  }
 },
 "nbformat": 4,
 "nbformat_minor": 5
}
