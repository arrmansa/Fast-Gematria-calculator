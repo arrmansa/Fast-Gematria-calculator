{
 "cells": [
  {
   "cell_type": "markdown",
   "id": "7cb6b682",
   "metadata": {},
   "source": [
    "# Pure Python"
   ]
  },
  {
   "cell_type": "code",
   "execution_count": 1,
   "id": "48b3d45a",
   "metadata": {},
   "outputs": [],
   "source": [
    "def pure_python_simple(filename, maketuple=False):\n",
    "    maindict = {65: 1, 66: 2, 67: 3, 68: 4, 69: 5, 70: 6, 71: 7, 72: 8, 73: 9, 74: 10, \\\n",
    "                75: 20, 76: 30, 77: 40, 78: 50, 79: 60, 80: 70, 81: 80, 82: 90, 83: 100, \\\n",
    "                84: 200, 85: 300, 86: 400, 87: 500, 88: 600, 89: 700, 90: 800}\n",
    "    full_dict = {**{i:0 for i in range(128)}, **maindict, **{key+32:val for key,val in maindict.items()}}\n",
    "    if maketuple:\n",
    "        full_dict = tuple(full_dict.values())\n",
    "    with open(filename, 'rb') as f:\n",
    "        print(sum(full_dict[i] for i in f.read()))"
   ]
  },
  {
   "cell_type": "code",
   "execution_count": 2,
   "id": "76ad5e2c",
   "metadata": {},
   "outputs": [
    {
     "name": "stdout",
     "output_type": "stream",
     "text": [
      "9140634224\n",
      "7.31 s ± 0 ns per loop (mean ± std. dev. of 1 run, 1 loop each)\n"
     ]
    }
   ],
   "source": [
    "%%timeit -n 1 -r 1\n",
    "pure_python_simple(\"random-20221005.txt\")"
   ]
  },
  {
   "cell_type": "code",
   "execution_count": 3,
   "id": "77d34b4a",
   "metadata": {},
   "outputs": [
    {
     "name": "stdout",
     "output_type": "stream",
     "text": [
      "9140634224\n",
      "7.17 s ± 0 ns per loop (mean ± std. dev. of 1 run, 1 loop each)\n"
     ]
    }
   ],
   "source": [
    "%%timeit -n 1 -r 1\n",
    "pure_python_simple(\"random-20221005.txt\", maketuple=True)"
   ]
  },
  {
   "cell_type": "markdown",
   "id": "6888cff1",
   "metadata": {},
   "source": [
    "# Numpy"
   ]
  },
  {
   "cell_type": "code",
   "execution_count": 4,
   "id": "00cf6f97",
   "metadata": {},
   "outputs": [],
   "source": [
    "import numpy as np\n",
    "def numpy_indexing(filename, do_loops=False):\n",
    "    maindict = {65: 1, 66: 2, 67: 3, 68: 4, 69: 5, 70: 6, 71: 7, 72: 8, 73: 9, 74: 10, \\\n",
    "                75: 20, 76: 30, 77: 40, 78: 50, 79: 60, 80: 70, 81: 80, 82: 90, 83: 100, \\\n",
    "                84: 200, 85: 300, 86: 400, 87: 500, 88: 600, 89: 700, 90: 800}\n",
    "    full_dict = {**{i:0 for i in range(128)}, **maindict, **{key+32:val for key,val in maindict.items()}}\n",
    "    full_dict = np.array(tuple(full_dict.values()), dtype=np.uint32)\n",
    "    with open(filename, 'rb') as f:\n",
    "        if do_loops:\n",
    "            total = 0\n",
    "            temp = 1\n",
    "            loops = 0\n",
    "            while temp:\n",
    "                temp = np.sum(full_dict[np.frombuffer(f.read1(100000), dtype=np.uint8)])\n",
    "                total += temp\n",
    "                loops += 1\n",
    "            print(total)\n",
    "            print(loops)\n",
    "        else:\n",
    "            print(np.sum(full_dict[np.frombuffer(f.read(), dtype=np.uint8)]))"
   ]
  },
  {
   "cell_type": "code",
   "execution_count": 5,
   "id": "a5c3a1ca",
   "metadata": {},
   "outputs": [
    {
     "data": {
      "text/plain": [
       "-589934592"
      ]
     },
     "execution_count": 5,
     "metadata": {},
     "output_type": "execute_result"
    }
   ],
   "source": [
    "#Error\n",
    "np.sum(np.array([800]*10000000))"
   ]
  },
  {
   "cell_type": "code",
   "execution_count": 6,
   "id": "71007904",
   "metadata": {},
   "outputs": [
    {
     "name": "stdout",
     "output_type": "stream",
     "text": [
      "550699632\n",
      "527 ms ± 0 ns per loop (mean ± std. dev. of 1 run, 1 loop each)\n"
     ]
    }
   ],
   "source": [
    "%%timeit -n 1 -r 1\n",
    "numpy_indexing(\"random-20221005.txt\")"
   ]
  },
  {
   "cell_type": "code",
   "execution_count": 7,
   "id": "a9f013e6",
   "metadata": {},
   "outputs": [
    {
     "name": "stdout",
     "output_type": "stream",
     "text": [
      "9140634224\n",
      "1050\n",
      "9140634224\n",
      "1050\n",
      "9140634224\n",
      "1050\n",
      "9140634224\n",
      "1050\n",
      "9140634224\n",
      "1050\n",
      "9140634224\n",
      "1050\n",
      "9140634224\n",
      "1050\n",
      "9140634224\n",
      "1050\n",
      "359 ms ± 23.6 ms per loop (mean ± std. dev. of 7 runs, 1 loop each)\n"
     ]
    }
   ],
   "source": [
    "%%timeit\n",
    "numpy_indexing(\"random-20221005.txt\", do_loops=True)"
   ]
  },
  {
   "cell_type": "markdown",
   "id": "1f513c78",
   "metadata": {},
   "source": [
    "# Pure Numba"
   ]
  },
  {
   "cell_type": "code",
   "execution_count": 8,
   "id": "f5ec09fd",
   "metadata": {},
   "outputs": [
    {
     "data": {
      "text/plain": [
       "4095"
      ]
     },
     "execution_count": 8,
     "metadata": {},
     "output_type": "execute_result"
    }
   ],
   "source": [
    "from numba import jit\n",
    "@jit(nogil=True, fastmath=True)\n",
    "def gematria_sum(bytearr):\n",
    "    total = 0\n",
    "    for char in bytearr:\n",
    "        if char < 65:\n",
    "            continue\n",
    "        if char > 96:\n",
    "            char -= 32\n",
    "        if char < 74: #A 4- J\n",
    "            total += char-64\n",
    "            continue\n",
    "        if char < 84: #K - S\n",
    "            total += (char-73)*10\n",
    "            continue\n",
    "        if char < 91: #T - Z\n",
    "            total += (char-82)*100\n",
    "    return total\n",
    "gematria_sum(b'qwertyuiopasdfghjklzxcvbnm') #to compile"
   ]
  },
  {
   "cell_type": "code",
   "execution_count": 9,
   "id": "d1a76a06",
   "metadata": {},
   "outputs": [],
   "source": [
    "def numba_basic(filename, do_loops=False):\n",
    "    with open(filename, 'rb') as f:\n",
    "        if do_loops:\n",
    "            total = 0\n",
    "            temp = 1\n",
    "            loops = 0\n",
    "            while temp:\n",
    "                temp = gematria_sum(f.read1(100000))\n",
    "                total += temp\n",
    "                loops += 1\n",
    "            print(total)\n",
    "            print(loops)\n",
    "        else:\n",
    "            print(gematria_sum(f.read()))"
   ]
  },
  {
   "cell_type": "code",
   "execution_count": 10,
   "id": "1e40f0be",
   "metadata": {},
   "outputs": [
    {
     "name": "stdout",
     "output_type": "stream",
     "text": [
      "9140634224\n",
      "841 ms ± 0 ns per loop (mean ± std. dev. of 1 run, 1 loop each)\n"
     ]
    }
   ],
   "source": [
    "%%timeit -n 1 -r 1\n",
    "numba_basic(\"random-20221005.txt\")"
   ]
  },
  {
   "cell_type": "code",
   "execution_count": 11,
   "id": "9b576d95",
   "metadata": {},
   "outputs": [
    {
     "name": "stdout",
     "output_type": "stream",
     "text": [
      "9140634224\n",
      "1050\n",
      "9140634224\n",
      "1050\n",
      "9140634224\n",
      "1050\n",
      "9140634224\n",
      "1050\n",
      "9140634224\n",
      "1050\n",
      "9140634224\n",
      "1050\n",
      "9140634224\n",
      "1050\n",
      "830 ms ± 177 ms per loop (mean ± std. dev. of 7 runs, 1 loop each)\n"
     ]
    }
   ],
   "source": [
    "%%timeit -n 1\n",
    "numba_basic(\"random-20221005.txt\", do_loops=True)"
   ]
  },
  {
   "cell_type": "markdown",
   "id": "e9705d03",
   "metadata": {},
   "source": [
    "# Numba + Numpy"
   ]
  },
  {
   "cell_type": "code",
   "execution_count": 12,
   "id": "d10fb3a7",
   "metadata": {},
   "outputs": [
    {
     "data": {
      "text/plain": [
       "2"
      ]
     },
     "execution_count": 12,
     "metadata": {},
     "output_type": "execute_result"
    }
   ],
   "source": [
    "#from numba import jit\n",
    "import numba\n",
    "numba.jit(nogil=True, fastmath=True)\n",
    "def np_index_sum(full_dict, bytearr):\n",
    "    return np.sum(full_dict[np.frombuffer(bytearr, dtype=np.uint8)])\n",
    "np_index_sum(np.array([2,2], dtype=np.uint32), b'\\x00') #to compile"
   ]
  },
  {
   "cell_type": "code",
   "execution_count": 13,
   "id": "7793c749",
   "metadata": {},
   "outputs": [],
   "source": [
    "import numpy as np\n",
    "def numba_numpy_indexing(filename, do_loops=False):\n",
    "    maindict = {65: 1, 66: 2, 67: 3, 68: 4, 69: 5, 70: 6, 71: 7, 72: 8, 73: 9, 74: 10, \\\n",
    "                75: 20, 76: 30, 77: 40, 78: 50, 79: 60, 80: 70, 81: 80, 82: 90, 83: 100, \\\n",
    "                84: 200, 85: 300, 86: 400, 87: 500, 88: 600, 89: 700, 90: 800}\n",
    "    full_dict = {**{i:0 for i in range(128)}, **maindict, **{key+32:val for key,val in maindict.items()}}\n",
    "    full_dict = np.array(tuple(full_dict.values()), dtype=np.uint32)\n",
    "    with open(filename, 'rb') as f:\n",
    "        if do_loops:\n",
    "            total = 0\n",
    "            temp = 1\n",
    "            loops = 0\n",
    "            while temp:\n",
    "                temp = np_index_sum(full_dict, f.read1(100000))\n",
    "                total += temp\n",
    "                loops += 1\n",
    "            print(total)\n",
    "            print(loops)\n",
    "        else:\n",
    "            print(np_index_sum(full_dict, f.read()))"
   ]
  },
  {
   "cell_type": "code",
   "execution_count": 14,
   "id": "9f2f1b94",
   "metadata": {},
   "outputs": [
    {
     "name": "stdout",
     "output_type": "stream",
     "text": [
      "550699632\n",
      "840 ms ± 0 ns per loop (mean ± std. dev. of 1 run, 1 loop each)\n"
     ]
    }
   ],
   "source": [
    "%%timeit -n 1 -r 1\n",
    "numba_numpy_indexing(\"random-20221005.txt\")"
   ]
  },
  {
   "cell_type": "code",
   "execution_count": 15,
   "id": "7e0287a6",
   "metadata": {},
   "outputs": [
    {
     "name": "stdout",
     "output_type": "stream",
     "text": [
      "9140634224\n",
      "1050\n",
      "9140634224\n",
      "1050\n",
      "9140634224\n",
      "1050\n",
      "9140634224\n",
      "1050\n",
      "9140634224\n",
      "1050\n",
      "9140634224\n",
      "1050\n",
      "9140634224\n",
      "1050\n",
      "9140634224\n",
      "1050\n",
      "361 ms ± 54 ms per loop (mean ± std. dev. of 7 runs, 1 loop each)\n"
     ]
    }
   ],
   "source": [
    "%%timeit\n",
    "numba_numpy_indexing(\"random-20221005.txt\", do_loops=True)"
   ]
  },
  {
   "cell_type": "code",
   "execution_count": 16,
   "id": "970f5fe4",
   "metadata": {},
   "outputs": [],
   "source": [
    "def only_read(filename):\n",
    "    with open(filename, 'rb') as f:\n",
    "        while len(f.read1(1000000)):\n",
    "            pass"
   ]
  },
  {
   "cell_type": "code",
   "execution_count": 17,
   "id": "3d92780f",
   "metadata": {},
   "outputs": [
    {
     "name": "stdout",
     "output_type": "stream",
     "text": [
      "23.2 ms ± 342 µs per loop (mean ± std. dev. of 7 runs, 10 loops each)\n"
     ]
    }
   ],
   "source": [
    "%%timeit\n",
    "only_read(\"random-20221005.txt\")"
   ]
  },
  {
   "cell_type": "code",
   "execution_count": 18,
   "id": "06955746",
   "metadata": {},
   "outputs": [],
   "source": [
    "import threading\n",
    "\n",
    "def threaded_numpy(filename):\n",
    "    maindict = {65: 1, 66: 2, 67: 3, 68: 4, 69: 5, 70: 6, 71: 7, 72: 8, 73: 9, 74: 10, \\\n",
    "                75: 20, 76: 30, 77: 40, 78: 50, 79: 60, 80: 70, 81: 80, 82: 90, 83: 100, \\\n",
    "                84: 200, 85: 300, 86: 400, 87: 500, 88: 600, 89: 700, 90: 800}\n",
    "    full_dict = {**{i:0 for i in range(128)}, **maindict, **{key+32:val for key,val in maindict.items()}}\n",
    "    full_dict = np.array(tuple(full_dict.values()), dtype=np.uint32)\n",
    "    \n",
    "    lock = threading.Lock()\n",
    "    results = []\n",
    "    def do_job(full_dict, bytearr, results, lock):\n",
    "        num = np.sum(full_dict[np.frombuffer(bytearr, dtype=np.uint8)])\n",
    "        with lock:\n",
    "            results.append(num)\n",
    "    threads = []\n",
    "    \n",
    "    with open(filename, 'rb') as f:\n",
    "        total = 0\n",
    "        loops = 0\n",
    "        temp = f.read1(1000000)\n",
    "        while len(temp):\n",
    "            threads.append(threading.Thread(target=do_job, \n",
    "                                            args=(full_dict, temp, results, lock)))\n",
    "            threads[-1].start()\n",
    "            loops += 1\n",
    "            temp = f.read1(1000000)\n",
    "            if len(threads)>10:\n",
    "                threads[0].join()\n",
    "                del threads[0]\n",
    "        for thread in threads:\n",
    "            thread.join()\n",
    "        print(sum(results))\n",
    "        print(loops)"
   ]
  },
  {
   "cell_type": "code",
   "execution_count": 19,
   "id": "96badfa3",
   "metadata": {},
   "outputs": [
    {
     "name": "stdout",
     "output_type": "stream",
     "text": [
      "9140634224\n",
      "105\n",
      "9140634224\n",
      "105\n",
      "9140634224\n",
      "105\n",
      "9140634224\n",
      "105\n",
      "9140634224\n",
      "105\n",
      "9140634224\n",
      "105\n",
      "9140634224\n",
      "105\n",
      "191 ms ± 5.13 ms per loop (mean ± std. dev. of 7 runs, 1 loop each)\n"
     ]
    }
   ],
   "source": [
    "%%timeit -n 1\n",
    "threaded_numpy(\"random-20221005.txt\")"
   ]
  },
  {
   "cell_type": "code",
   "execution_count": 20,
   "id": "80756ef2",
   "metadata": {},
   "outputs": [],
   "source": [
    "from concurrent.futures import ThreadPoolExecutor\n",
    "\n",
    "def threaded_new_numpy(filename):\n",
    "    maindict = {65: 1, 66: 2, 67: 3, 68: 4, 69: 5, 70: 6, 71: 7, 72: 8, 73: 9, 74: 10, \\\n",
    "                75: 20, 76: 30, 77: 40, 78: 50, 79: 60, 80: 70, 81: 80, 82: 90, 83: 100, \\\n",
    "                84: 200, 85: 300, 86: 400, 87: 500, 88: 600, 89: 700, 90: 800}\n",
    "    full_dict = {**{i:0 for i in range(128)}, **maindict, **{key+32:val for key,val in maindict.items()}}\n",
    "    full_dict = np.array(tuple(full_dict.values()), dtype=np.uint32)\n",
    "\n",
    "    with open(filename, 'rb') as f:\n",
    "        loops = 0\n",
    "        temp = f.read1(1000000)\n",
    "        threads = []\n",
    "        with ThreadPoolExecutor(max_workers=10) as executor:\n",
    "            while len(temp):\n",
    "                threads.append(executor.submit(np_index_sum, full_dict, temp))\n",
    "                temp = f.read1(1000000)\n",
    "                loops += 1\n",
    "        print(sum(thread.result() for thread in threads))\n",
    "        print(loops)"
   ]
  },
  {
   "cell_type": "code",
   "execution_count": 21,
   "id": "930a01dc",
   "metadata": {},
   "outputs": [
    {
     "name": "stdout",
     "output_type": "stream",
     "text": [
      "9140634224\n",
      "105\n",
      "9140634224\n",
      "105\n",
      "9140634224\n",
      "105\n",
      "9140634224\n",
      "105\n",
      "9140634224\n",
      "105\n",
      "9140634224\n",
      "105\n",
      "9140634224\n",
      "105\n",
      "194 ms ± 6.45 ms per loop (mean ± std. dev. of 7 runs, 1 loop each)\n"
     ]
    }
   ],
   "source": [
    "%%timeit -n 1\n",
    "threaded_new_numpy(\"random-20221005.txt\")"
   ]
  },
  {
   "cell_type": "markdown",
   "id": "6bb4c61c",
   "metadata": {},
   "source": [
    "# FINAL"
   ]
  },
  {
   "cell_type": "code",
   "execution_count": 22,
   "id": "c7354f5e",
   "metadata": {},
   "outputs": [],
   "source": [
    "import numpy as np\n",
    "from concurrent.futures import ThreadPoolExecutor\n",
    "\n",
    "def final_fast_gematria(filename, chunksize=1000000, max_threads=20):\n",
    "    maindict = {65: 1, 66: 2, 67: 3, 68: 4, 69: 5, 70: 6, 71: 7, 72: 8, 73: 9, 74: 10, \\\n",
    "                75: 20, 76: 30, 77: 40, 78: 50, 79: 60, 80: 70, 81: 80, 82: 90, 83: 100, \\\n",
    "                84: 200, 85: 300, 86: 400, 87: 500, 88: 600, 89: 700, 90: 800}\n",
    "    full_dict = {**{i:0 for i in range(128)}, **maindict, **{key+32:val for key,val in maindict.items()}}\n",
    "    full_dict = np.array(tuple(full_dict.values()), dtype=np.uint32)\n",
    "    task = lambda full_dict, bytearr: np.sum(full_dict[np.frombuffer(bytearr, dtype=np.uint8)])\n",
    "    threads = []\n",
    "    with open(filename, 'rb') as f:\n",
    "        with ThreadPoolExecutor(max_workers=max_threads) as executor:\n",
    "            temp = f.read1(chunksize)\n",
    "            while len(temp):\n",
    "                threads.append(executor.submit(task, full_dict, temp))\n",
    "                temp = f.read1(chunksize)\n",
    "    return sum(thread.result() for thread in threads)"
   ]
  },
  {
   "cell_type": "code",
   "execution_count": 23,
   "id": "b3dcb562",
   "metadata": {},
   "outputs": [
    {
     "name": "stdout",
     "output_type": "stream",
     "text": [
      "9140634224\n",
      "9140634224\n",
      "9140634224\n",
      "9140634224\n",
      "9140634224\n",
      "9140634224\n",
      "9140634224\n",
      "193 ms ± 12 ms per loop (mean ± std. dev. of 7 runs, 1 loop each)\n"
     ]
    }
   ],
   "source": [
    "%%timeit -n 1\n",
    "print(final_fast_gematria(\"random-20221005.txt\"))"
   ]
  }
 ],
 "metadata": {
  "kernelspec": {
   "display_name": "Python 3 (ipykernel)",
   "language": "python",
   "name": "python3"
  },
  "language_info": {
   "codemirror_mode": {
    "name": "ipython",
    "version": 3
   },
   "file_extension": ".py",
   "mimetype": "text/x-python",
   "name": "python",
   "nbconvert_exporter": "python",
   "pygments_lexer": "ipython3",
   "version": "3.7.10"
  }
 },
 "nbformat": 4,
 "nbformat_minor": 5
}
